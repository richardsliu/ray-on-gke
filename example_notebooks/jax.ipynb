{
 "cells": [
  {
   "cell_type": "code",
   "execution_count": null,
   "id": "988a56dd-126f-4ff9-ab46-44e8a0e5e8a8",
   "metadata": {
    "tags": []
   },
   "outputs": [],
   "source": [
    "import ray\n",
    "ray.init(\n",
    "    address=\"ray://example-cluster-kuberay-head-svc:10001\"\n",
    ")"
   ]
  },
  {
   "cell_type": "code",
   "execution_count": null,
   "id": "357efa04-930e-4f6b-ba1f-63a718629aea",
   "metadata": {
    "tags": []
   },
   "outputs": [],
   "source": [
    "@ray.remote(resources={\"google.com/tpu\": 4})\n",
    "def tpu_cores():\n",
    "    import jax\n",
    "    return \"TPU cores:\" + str(jax.device_count())"
   ]
  },
  {
   "cell_type": "code",
   "execution_count": null,
   "id": "7fb54693-2caa-4f3e-b155-b28a843a01f2",
   "metadata": {
    "tags": []
   },
   "outputs": [],
   "source": [
    "num_workers = 2\n",
    "result = [tpu_cores.remote() for _ in range(num_workers)]\n",
    "print(ray.get(result))"
   ]
  },
  {
   "cell_type": "code",
   "execution_count": null,
   "id": "6a3f58ab-8b4a-4fac-8201-9ca66e0084e6",
   "metadata": {},
   "outputs": [],
   "source": []
  }
 ],
 "metadata": {
  "kernelspec": {
   "display_name": "Python 3 (ipykernel)",
   "language": "python",
   "name": "python3"
  },
  "language_info": {
   "codemirror_mode": {
    "name": "ipython",
    "version": 3
   },
   "file_extension": ".py",
   "mimetype": "text/x-python",
   "name": "python",
   "nbconvert_exporter": "python",
   "pygments_lexer": "ipython3",
   "version": "3.10.11"
  }
 },
 "nbformat": 4,
 "nbformat_minor": 5
}
